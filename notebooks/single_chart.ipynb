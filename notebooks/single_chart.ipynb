{
 "cells": [
  {
   "cell_type": "markdown",
   "metadata": {},
   "source": [
    "# Compare the model with experiments\n",
    "\n",
    "* Model: solid lines\n",
    "* Experiments: points (its colors are same as models)\n"
   ]
  },
  {
   "cell_type": "code",
   "execution_count": 1,
   "metadata": {},
   "outputs": [],
   "source": [
    "%matplotlib inline\n",
    "import matplotlib.pyplot as plt\n",
    "import numpy as np\n",
    "\n",
    "def compare_exp_and_model(x, y_experimental, y_model):\n",
    "    plt.rcParams['axes.linewidth'] = 1.2\n",
    "    plt.rcParams['axes.grid']=False\n",
    "    plt.rcParams['font.size'] = 8\n",
    "    plt.rcParams['font.family']= 'sans-serif'\n",
    "    plt.rcParams['font.sans-serif'] = ['Arial']\n",
    "    plt.rcParams['grid.linestyle']='--'\n",
    "    plt.rcParams['grid.linewidth'] = 0.3\n",
    "    plt.rcParams['xtick.direction'] = 'in'\n",
    "    plt.rcParams['ytick.direction'] = 'in'\n",
    "    plt.rcParams['xtick.major.width'] = 0.8\n",
    "    plt.rcParams['ytick.major.width'] = 0.8\n",
    "\n",
    "    figsize_inch = (3.5, 3.5/1.618)\n",
    "    fig = plt.figure(figsize=figsize_inch)\n",
    "    ax = fig.add_subplot(111)\n",
    "    ax.scatter(x, y_experimental, label=\"Experimental\", s=10, alpha=0.5, color=\"deepskyblue\")\n",
    "    ax.plot(x, y_model,label=\"Model\", color=\"deepskyblue\")\n",
    "    ax.set_xlabel(\"x axis\")\n",
    "    ax.set_ylabel(\"y axis\")\n",
    "    ax.spines['bottom'].set_color('black')\n",
    "    ax.spines['top'].set_color('black') \n",
    "    ax.spines['right'].set_color('black')\n",
    "    ax.spines['left'].set_color('black')\n",
    "    ax.tick_params(axis='x', colors='black')\n",
    "    ax.tick_params(axis='y', colors='black')\n",
    "    ax.legend()\n",
    "\n",
    "    # ax.set_title(\"title\")\n",
    "    fig.subplots_adjust(bottom=0.16,left=0.14, top=0.95, right=0.97)\n",
    "\n",
    "    plt.savefig(\"300_dpi_scatter.png\", format=\"png\", dpi=300)    "
   ]
  },
  {
   "cell_type": "code",
   "execution_count": 3,
   "metadata": {},
   "outputs": [
    {
     "data": {
      "image/png": "[encoded data removed]",
      "text/plain": [
       "<Figure size 252x155.748 with 1 Axes>"
      ]
     },
     "metadata": {
      "needs_background": "light"
     },
     "output_type": "display_data"
    }
   ],
   "source": [
    "# plt.style.use('seaborn-muted')\n",
    "# --- data sample --- #\n",
    "N = 50\n",
    "x = np.array([2 * (i / N) * np.pi for i in range(N)])\n",
    "y_experimental = np.sin(x) + np.random.normal(loc=0.0,scale=0.1,size=N)\n",
    "y_model = np.sin(x)\n",
    "compare_exp_and_model(x, y_experimental, y_model)"
   ]
  },
  {
   "cell_type": "code",
   "execution_count": null,
   "metadata": {},
   "outputs": [],
   "source": []
  }
 ],
 "metadata": {
  "kernelspec": {
   "display_name": "Python 3",
   "language": "python",
   "name": "python3"
  },
  "language_info": {
   "codemirror_mode": {
    "name": "ipython",
    "version": 3
   },
   "file_extension": ".py",
   "mimetype": "text/x-python",
   "name": "python",
   "nbconvert_exporter": "python",
   "pygments_lexer": "ipython3",
   "version": "3.8.2"
  }
 },
 "nbformat": 4,
 "nbformat_minor": 4
}
